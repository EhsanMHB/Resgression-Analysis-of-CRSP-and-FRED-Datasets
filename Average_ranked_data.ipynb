{
 "cells": [
  {
   "cell_type": "code",
   "execution_count": 1,
   "metadata": {},
   "outputs": [],
   "source": [
    "import pandas as pd\n",
    "import numpy as np\n",
    "from datetime import datetime"
   ]
  },
  {
   "cell_type": "code",
   "execution_count": 14,
   "metadata": {},
   "outputs": [],
   "source": [
    "data = pd.read_excel(\"./Data/Ranked_data/BusEq_CFPranked_weekly_data.xlsx\")"
   ]
  },
  {
   "cell_type": "code",
   "execution_count": 15,
   "metadata": {},
   "outputs": [
    {
     "data": {
      "text/html": [
       "<div>\n",
       "<style scoped>\n",
       "    .dataframe tbody tr th:only-of-type {\n",
       "        vertical-align: middle;\n",
       "    }\n",
       "\n",
       "    .dataframe tbody tr th {\n",
       "        vertical-align: top;\n",
       "    }\n",
       "\n",
       "    .dataframe thead th {\n",
       "        text-align: right;\n",
       "    }\n",
       "</style>\n",
       "<table border=\"1\" class=\"dataframe\">\n",
       "  <thead>\n",
       "    <tr style=\"text-align: right;\">\n",
       "      <th></th>\n",
       "      <th>Date</th>\n",
       "      <th>return_t</th>\n",
       "      <th>return_t+</th>\n",
       "      <th>CFP</th>\n",
       "      <th>Low_CF_t</th>\n",
       "      <th>High_CF_t</th>\n",
       "      <th>quintile</th>\n",
       "      <th>decile</th>\n",
       "    </tr>\n",
       "  </thead>\n",
       "  <tbody>\n",
       "    <tr>\n",
       "      <th>0</th>\n",
       "      <td>1982-09-03</td>\n",
       "      <td>0.059194</td>\n",
       "      <td>-0.013111</td>\n",
       "      <td>2.009264e-05</td>\n",
       "      <td>0</td>\n",
       "      <td>1</td>\n",
       "      <td>4</td>\n",
       "      <td>7</td>\n",
       "    </tr>\n",
       "    <tr>\n",
       "      <th>1</th>\n",
       "      <td>1984-10-19</td>\n",
       "      <td>0.030527</td>\n",
       "      <td>-0.022304</td>\n",
       "      <td>1.462127e-03</td>\n",
       "      <td>0</td>\n",
       "      <td>1</td>\n",
       "      <td>5</td>\n",
       "      <td>10</td>\n",
       "    </tr>\n",
       "    <tr>\n",
       "      <th>2</th>\n",
       "      <td>1984-12-21</td>\n",
       "      <td>0.036510</td>\n",
       "      <td>0.005964</td>\n",
       "      <td>1.170571e-05</td>\n",
       "      <td>1</td>\n",
       "      <td>0</td>\n",
       "      <td>3</td>\n",
       "      <td>6</td>\n",
       "    </tr>\n",
       "    <tr>\n",
       "      <th>3</th>\n",
       "      <td>1985-01-04</td>\n",
       "      <td>-0.021378</td>\n",
       "      <td>0.034214</td>\n",
       "      <td>5.703057e-07</td>\n",
       "      <td>1</td>\n",
       "      <td>0</td>\n",
       "      <td>2</td>\n",
       "      <td>2</td>\n",
       "    </tr>\n",
       "    <tr>\n",
       "      <th>4</th>\n",
       "      <td>1985-01-11</td>\n",
       "      <td>0.034214</td>\n",
       "      <td>0.032522</td>\n",
       "      <td>2.544784e-05</td>\n",
       "      <td>1</td>\n",
       "      <td>0</td>\n",
       "      <td>4</td>\n",
       "      <td>7</td>\n",
       "    </tr>\n",
       "  </tbody>\n",
       "</table>\n",
       "</div>"
      ],
      "text/plain": [
       "        Date  return_t  return_t+           CFP  Low_CF_t  High_CF_t  \\\n",
       "0 1982-09-03  0.059194  -0.013111  2.009264e-05         0          1   \n",
       "1 1984-10-19  0.030527  -0.022304  1.462127e-03         0          1   \n",
       "2 1984-12-21  0.036510   0.005964  1.170571e-05         1          0   \n",
       "3 1985-01-04 -0.021378   0.034214  5.703057e-07         1          0   \n",
       "4 1985-01-11  0.034214   0.032522  2.544784e-05         1          0   \n",
       "\n",
       "   quintile  decile  \n",
       "0         4       7  \n",
       "1         5      10  \n",
       "2         3       6  \n",
       "3         2       2  \n",
       "4         4       7  "
      ]
     },
     "execution_count": 15,
     "metadata": {},
     "output_type": "execute_result"
    }
   ],
   "source": [
    "data.head()"
   ]
  },
  {
   "cell_type": "code",
   "execution_count": 13,
   "metadata": {},
   "outputs": [
    {
     "name": "stdout",
     "output_type": "stream",
     "text": [
      "mean_values are: [0.00482830569831996, -3.3643555964417275e-05, 0.0034182457213573288, 0.0024004068121869517]\n"
     ]
    },
    {
     "data": {
      "text/plain": [
       "-1.0181308038696444"
      ]
     },
     "execution_count": 13,
     "metadata": {},
     "output_type": "execute_result"
    }
   ],
   "source": [
    "mean_values = []\n",
    "std_values = []\n",
    "sample_num = []\n",
    "for i in np.arange(2, 6):\n",
    "    ind = data[\"quintile\"] == i\n",
    "    mean_values.append(np.mean(data[\"return_t\"][ind]))  \n",
    "    std_values.append(np.std(data[\"return_t\"][ind]))\n",
    "    sample_num.append(np.sum(ind))\n",
    "    \n",
    "t_stat = (mean_values[-1] - mean_values[0]) / np.sqrt(((std_values[-1] ** 2) / sample_num[-1]) + ((std_values[0] ** 2) / sample_num[0]) )    \n",
    "print(\"mean_values are: [%s]\" % ', '.join(map(str, mean_values)))\n",
    "t_stat"
   ]
  },
  {
   "cell_type": "code",
   "execution_count": 6,
   "metadata": {},
   "outputs": [
    {
     "name": "stdout",
     "output_type": "stream",
     "text": [
      "mean_values are: [0.009200157434385299, 0.013028709855926104, 0.01973335614050366, 0.001153048465654702]\n"
     ]
    },
    {
     "data": {
      "text/plain": [
       "-0.8215136204255277"
      ]
     },
     "execution_count": 6,
     "metadata": {},
     "output_type": "execute_result"
    }
   ],
   "source": [
    "mean_values = []\n",
    "std_values = []\n",
    "sample_num = []\n",
    "for i in np.arange(2, 6):\n",
    "    ind = data[\"quintile\"] == i\n",
    "    mean_values.append(np.mean(data[\"return_t+\"][ind]))\n",
    "    std_values.append(np.std(data[\"return_t+\"][ind]))\n",
    "    sample_num.append(np.sum(ind))\n",
    "    \n",
    "t_stat = (mean_values[-1] - mean_values[0]) / np.sqrt(((std_values[-1] ** 2) / sample_num[-1]) + ((std_values[0] ** 2) / sample_num[0]) )    \n",
    "print(\"mean_values are: [%s]\" % ', '.join(map(str, mean_values)))\n",
    "t_stat"
   ]
  },
  {
   "cell_type": "code",
   "execution_count": 7,
   "metadata": {},
   "outputs": [
    {
     "name": "stdout",
     "output_type": "stream",
     "text": [
      "mean_values are: [0.024769974553050574, 0.0023089868257141536, -0.002338079572989191, 0.011649043020893902, 0.022174043402737, 0.014158705413049432, 0.011741295116337662, 0.0020698166336196528, 0.00949228530860326]\n"
     ]
    },
    {
     "data": {
      "text/plain": [
       "-1.1420422574079199"
      ]
     },
     "execution_count": 7,
     "metadata": {},
     "output_type": "execute_result"
    }
   ],
   "source": [
    "mean_values = []\n",
    "std_values = []\n",
    "sample_num = []\n",
    "for i in np.arange(2, 11):\n",
    "    ind = data[\"decile\"] == i\n",
    "    mean_values.append(np.mean(data[\"return_t\"][ind]))\n",
    "    std_values.append(np.std(data[\"return_t\"][ind]))\n",
    "    sample_num.append(np.sum(ind))\n",
    "\n",
    "t_stat = (mean_values[-1] - mean_values[0]) / np.sqrt(((std_values[-1] ** 2) / sample_num[-1]) + ((std_values[0] ** 2) / sample_num[0]) )    \n",
    "print(\"mean_values are: [%s]\" % ', '.join(map(str, mean_values)))\n",
    "t_stat"
   ]
  },
  {
   "cell_type": "code",
   "execution_count": 8,
   "metadata": {},
   "outputs": [
    {
     "name": "stdout",
     "output_type": "stream",
     "text": [
      "mean_values are: [0.010119421676607664, 0.009703002660413393, 0.016954856978992523, 0.008201820404691144, 0.0067578964671774055, 0.030330279852362817, 0.014552130044839224, 0.002835195465720519, -0.0018256482777874504]\n"
     ]
    },
    {
     "data": {
      "text/plain": [
       "-0.9351739346578825"
      ]
     },
     "execution_count": 8,
     "metadata": {},
     "output_type": "execute_result"
    }
   ],
   "source": [
    "mean_values = []\n",
    "std_values = []\n",
    "sample_num = []\n",
    "for i in np.arange(2, 11):\n",
    "    ind = data[\"decile\"] == i\n",
    "    mean_values.append(np.mean(data[\"return_t+\"][ind]))\n",
    "    std_values.append(np.std(data[\"return_t+\"][ind]))\n",
    "    sample_num.append(np.sum(ind))\n",
    "\n",
    "t_stat = (mean_values[-1] - mean_values[0]) / np.sqrt(((std_values[-1] ** 2) / sample_num[-1]) + ((std_values[0] ** 2) / sample_num[0]) )    \n",
    "print(\"mean_values are: [%s]\" % ', '.join(map(str, mean_values)))\n",
    "t_stat"
   ]
  },
  {
   "cell_type": "code",
   "execution_count": 9,
   "metadata": {
    "scrolled": true
   },
   "outputs": [
    {
     "name": "stdout",
     "output_type": "stream",
     "text": [
      "mean_values are: [0.010373000460485527, 0.011369064138102222]\n"
     ]
    },
    {
     "data": {
      "text/plain": [
       "0.14892878550149682"
      ]
     },
     "execution_count": 9,
     "metadata": {},
     "output_type": "execute_result"
    }
   ],
   "source": [
    "mean_values = []\n",
    "std_values = []\n",
    "sample_num = []\n",
    "for i in range(2):\n",
    "    ind = data[\"High_CF_t\"] == i\n",
    "    mean_values.append(np.mean(data[\"return_t\"][ind]))\n",
    "    std_values.append(np.std(data[\"return_t\"][ind]))\n",
    "    sample_num.append(np.sum(ind))\n",
    "\n",
    "t_stat = (mean_values[-1] - mean_values[0]) / np.sqrt(((std_values[-1] ** 2) / sample_num[-1]) + ((std_values[0] ** 2) / sample_num[0]) )    \n",
    "print(\"mean_values are: [%s]\" % ', '.join(map(str, mean_values)))\n",
    "t_stat"
   ]
  },
  {
   "cell_type": "code",
   "execution_count": 10,
   "metadata": {
    "scrolled": true
   },
   "outputs": [
    {
     "name": "stdout",
     "output_type": "stream",
     "text": [
      "mean_values are: [0.011052253339929286, 0.010228672983410047]\n"
     ]
    },
    {
     "data": {
      "text/plain": [
       "-0.1251638410796503"
      ]
     },
     "execution_count": 10,
     "metadata": {},
     "output_type": "execute_result"
    }
   ],
   "source": [
    "mean_values = []\n",
    "std_values = []\n",
    "sample_num = []\n",
    "for i in range(2):\n",
    "    ind = data[\"High_CF_t\"] == i\n",
    "    mean_values.append(np.mean(data[\"return_t+\"][ind]))\n",
    "    std_values.append(np.std(data[\"return_t+\"][ind]))\n",
    "    sample_num.append(np.sum(ind))\n",
    "\n",
    "t_stat = (mean_values[-1] - mean_values[0]) / np.sqrt(((std_values[-1] ** 2) / sample_num[-1]) + ((std_values[0] ** 2) / sample_num[0]) )    \n",
    "print(\"mean_values are: [%s]\" % ', '.join(map(str, mean_values)))\n",
    "t_stat"
   ]
  },
  {
   "cell_type": "code",
   "execution_count": null,
   "metadata": {
    "collapsed": true
   },
   "outputs": [],
   "source": []
  }
 ],
 "metadata": {
  "kernelspec": {
   "display_name": "Python 3",
   "language": "python",
   "name": "python3"
  },
  "language_info": {
   "codemirror_mode": {
    "name": "ipython",
    "version": 3
   },
   "file_extension": ".py",
   "mimetype": "text/x-python",
   "name": "python",
   "nbconvert_exporter": "python",
   "pygments_lexer": "ipython3",
   "version": "3.8.3"
  }
 },
 "nbformat": 4,
 "nbformat_minor": 2
}
